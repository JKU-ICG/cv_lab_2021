{
 "cells": [
  {
   "cell_type": "markdown",
   "source": [
    "# 364.0{21,22,41-45} Introduction to Image Processing"
   ],
   "metadata": {
    "slideshow": {
     "slide_type": "slide"
    }
   }
  },
  {
   "cell_type": "code",
   "execution_count": null,
   "source": [
    "import numpy as np"
   ],
   "outputs": [],
   "metadata": {
    "slideshow": {
     "slide_type": "-"
    }
   }
  },
  {
   "cell_type": "code",
   "execution_count": null,
   "source": [
    "%matplotlib widget\n",
    "import matplotlib.pyplot as plt"
   ],
   "outputs": [],
   "metadata": {
    "slideshow": {
     "slide_type": "slide"
    }
   }
  },
  {
   "cell_type": "code",
   "execution_count": null,
   "source": [
    "import skimage"
   ],
   "outputs": [],
   "metadata": {}
  },
  {
   "cell_type": "markdown",
   "source": [
    "## Load and Display Images"
   ],
   "metadata": {}
  },
  {
   "cell_type": "markdown",
   "source": [
    "The scitki-image package comes along with some example images that can be accessed via the `data` module."
   ],
   "metadata": {}
  },
  {
   "cell_type": "code",
   "execution_count": null,
   "source": [
    "img = skimage.data.cat()  # Example image from the scikit-image package"
   ],
   "outputs": [],
   "metadata": {}
  },
  {
   "cell_type": "code",
   "execution_count": null,
   "source": [
    "plt.figure()\n",
    "plt.imshow(img)"
   ],
   "outputs": [],
   "metadata": {}
  },
  {
   "cell_type": "markdown",
   "source": [
    "Moreover, images can be loaded from the drive (or web) using the `imread` function from the `io` module. This module defines an interface for different packages that support io-operations for different image type.\n",
    "\n",
    "The following function lists all available packages and their supported functions:"
   ],
   "metadata": {}
  },
  {
   "cell_type": "code",
   "execution_count": null,
   "source": [
    "skimage.io.find_available_plugins()"
   ],
   "outputs": [],
   "metadata": {}
  },
  {
   "cell_type": "markdown",
   "source": [
    "The default package used by the `io` module is the `imageio` package (except for `.tiff`-files the `tifffile` package is used).\n",
    "\n",
    "Let's try to load some images next and display them using matplotlib."
   ],
   "metadata": {}
  },
  {
   "cell_type": "code",
   "execution_count": null,
   "source": [
    "img_drive = skimage.io.imread('example.png')    # Read an image from the drive\n",
    "img_web = skimage.io.imread('https://www.jku.at/fileadmin/_processed_/5/7/csm_erich-kobler_b598995438.jpg')\n",
    "\n",
    "# display the images\n",
    "fig, ax = plt.subplots(1,2)\n",
    "ax[0].imshow(img_drive)\n",
    "ax[1].imshow(img_web)"
   ],
   "outputs": [],
   "metadata": {}
  },
  {
   "cell_type": "code",
   "execution_count": null,
   "source": [
    "# Let's add titles and turn of the axis clutter.\n",
    "ax[0].set_title('Logo')\n",
    "ax[1].set_title('Erich Kobler')\n",
    "for a in ax: a.axis('off')"
   ],
   "outputs": [],
   "metadata": {}
  },
  {
   "cell_type": "markdown",
   "source": [
    "Let us check the size of the images. It should be number of rows times number of columns times the number of color channels, i.e. $N\\times M \\times C$."
   ],
   "metadata": {}
  },
  {
   "cell_type": "code",
   "execution_count": null,
   "source": [
    "print(img.shape)\n",
    "print(img_drive.shape)"
   ],
   "outputs": [],
   "metadata": {}
  },
  {
   "cell_type": "code",
   "execution_count": null,
   "source": [
    "# We do not need the 4th channel now, so let's remove it.\n",
    "img_drive = img_drive[..., :3]"
   ],
   "outputs": [],
   "metadata": {}
  },
  {
   "cell_type": "markdown",
   "source": [
    "Why has `img_drive` 4 channels?"
   ],
   "metadata": {}
  },
  {
   "cell_type": "markdown",
   "source": [
    "Typically images are stored in the RGB color space. So, the channel represent the Red, Green, and Blue color component of a pixel. The next figure displays each channel individually."
   ],
   "metadata": {}
  },
  {
   "cell_type": "code",
   "execution_count": null,
   "source": [
    "fig, ax = plt.subplots(1, img_drive.shape[2], sharex=True, sharey=True)\n",
    "labels = ['red', 'green', 'blue']\n",
    "for i, a in enumerate(ax):\n",
    "    a.imshow(img_drive[..., i], cmap='gray')\n",
    "    a.set_title(labels[i])\n",
    "    a.axis('off')"
   ],
   "outputs": [],
   "metadata": {}
  },
  {
   "cell_type": "markdown",
   "source": [
    "### Image data types"
   ],
   "metadata": {}
  },
  {
   "cell_type": "markdown",
   "source": [
    "Since images are represented as numpy arrays, their data (pixel intensity values) may be stored using the supported `dtypes`.\n",
    "Typically images are stores using the 8bit unsigned int data type (i.e. `np.uint8`). However, image processing is often easier using floating point values in a normalized interval such as $[0,1]$."
   ],
   "metadata": {}
  },
  {
   "cell_type": "code",
   "execution_count": null,
   "source": [
    "# Let's check the dtype of the loaded images.\n",
    "print(\"dtype:\", img_drive.dtype)\n",
    "print(f\"Range: [{img_drive.min()}, {img_drive.max()}]\")"
   ],
   "outputs": [],
   "metadata": {}
  },
  {
   "cell_type": "markdown",
   "source": [
    "Convert it to floating point variables in $[0,1]$ using single precision to avoid unwanted quantization artifacts."
   ],
   "metadata": {}
  },
  {
   "cell_type": "code",
   "execution_count": null,
   "source": [
    "img_drive = img_drive.astype(np.float32)/255\n",
    "print(\"dtype:\", img.dtype)\n",
    "print(f\"Range: [{img.min()}, {img.max()}]\")"
   ],
   "outputs": [],
   "metadata": {}
  },
  {
   "cell_type": "markdown",
   "source": [
    "Since the image is represented as a numpy array, its entries (pixel intensities) can be manipulated using numpy functions. Note also the function `img_as_float` can be used to convert the dtype from `np.uint8` to `np.float`."
   ],
   "metadata": {}
  },
  {
   "cell_type": "code",
   "execution_count": null,
   "source": [
    "img_sine = np.sin(2*np.pi*skimage.img_as_float(img)) # \n",
    "fig, ax = plt.subplots(1,2)\n",
    "ax[0].imshow(img)\n",
    "ax[1].imshow(img_sine)"
   ],
   "outputs": [],
   "metadata": {}
  },
  {
   "cell_type": "markdown",
   "source": [
    "Finally, the `io` module allows us to export (write) images using the function `imsave`."
   ],
   "metadata": {}
  },
  {
   "cell_type": "code",
   "execution_count": null,
   "source": [
    "print('Without a conversion we get the following warning:', flush=True)\n",
    "skimage.io.imsave('cat-sine.jpg', img_sine, quality=90) # The quality argument is optional for the JPEG format.\n",
    "\n",
    "print('With a conversion no warning is displayed.', flush=True)\n",
    "skimage.io.imsave('cat-sine.jpg', ((img_sine+1)/2*255).astype(np.uint8), quality=90) # The quality argument is optional for the JPEG format."
   ],
   "outputs": [],
   "metadata": {}
  },
  {
   "cell_type": "markdown",
   "source": [
    "For more details on the `io` module have a look at the [documentation](https://scikit-image.org/docs/dev/api/skimage.io.html#skimage.io)."
   ],
   "metadata": {}
  },
  {
   "cell_type": "markdown",
   "source": [
    "## Color conversion"
   ],
   "metadata": {}
  },
  {
   "cell_type": "markdown",
   "source": [
    "Many image processing algorithms require that images are represented in certain color spaces such as RGB, HSV, Lab, or YCbCr. Scikit-image provides the `color` module to convert pixel data between these spaces. \n",
    "The naming convention of the conversion functions is rather simple: \n",
    "\n",
    ">    `<orign>2<target>`, \n",
    "\n",
    "where `<origin>` is the name of the color space to convert from and `<target>` is the name of the destination color space. You find some examples below."
   ],
   "metadata": {}
  },
  {
   "cell_type": "code",
   "execution_count": null,
   "source": [
    "color_conversion = {'RGB': lambda x: x,\n",
    "                    'Gray': skimage.color.rgb2gray,\n",
    "                    'HSV': skimage.color.rgb2hsv,\n",
    "                    'Lab': skimage.color.rgb2lab,\n",
    "                   }\n",
    "img_cc = {k: v(img_drive) for k, v in color_conversion.items()}"
   ],
   "outputs": [],
   "metadata": {}
  },
  {
   "cell_type": "markdown",
   "source": [
    "Next, we check the range of the different color spaces for the particular image."
   ],
   "metadata": {}
  },
  {
   "cell_type": "code",
   "execution_count": null,
   "source": [
    "# A pretty printing function for arrays\n",
    "def pp_array(x):\n",
    "    return np.array2string(x, formatter={'float': lambda x: f'{x:.2f}'})\n",
    "\n",
    "\n",
    "for k, v in img_cc.items():\n",
    "    print(f\"{k:4s} in [{pp_array(np.min(v, (0,1))):20s}, {pp_array(np.max(v, (0,1))):20s}]\")\n"
   ],
   "outputs": [],
   "metadata": {}
  },
  {
   "cell_type": "markdown",
   "source": [
    "Due to the larger range of the `Lab` color space, we will get a warning when displaying images using matplotlib."
   ],
   "metadata": {}
  },
  {
   "cell_type": "code",
   "execution_count": null,
   "source": [
    "fig, ax = plt.subplots(2, len(img_cc)//2, sharex=True, sharey=True)\n",
    "ax = ax.ravel()\n",
    "\n",
    "for i, (k, v) in enumerate(img_cc.items()):\n",
    "    ax[i].imshow(v, cmap='gray')   # The cmap attribute is just used for the 'gray' image.\n",
    "    ax[i].set_title(k)"
   ],
   "outputs": [],
   "metadata": {}
  },
  {
   "cell_type": "markdown",
   "source": [
    "However, we can avoid this warning by normalizing the channels."
   ],
   "metadata": {}
  },
  {
   "cell_type": "code",
   "execution_count": null,
   "source": [
    "def normalize_channels(x):\n",
    "    x = x.copy()\n",
    "    x -= x.min((1,2), keepdims=True)\n",
    "    x /= x.max((1,2), keepdims=True)\n",
    "    return x\n",
    "\n",
    "fig, ax = plt.subplots()\n",
    "ax.imshow(normalize_channels(img_cc['Lab']))"
   ],
   "outputs": [],
   "metadata": {}
  },
  {
   "cell_type": "markdown",
   "source": [
    "Further details on color channels can be found at [wikipedia](https://en.wikipedia.org/wiki/Color_space) and the API of the `color` module is described in the [documentation](https://scikit-image.org/docs/dev/api/skimage.color.html#skimage.color)"
   ],
   "metadata": {}
  },
  {
   "cell_type": "markdown",
   "source": [
    "## Distribution of Intensity Values (Histograms)"
   ],
   "metadata": {}
  },
  {
   "cell_type": "markdown",
   "source": [
    "The global (across the entire image) discrete distribution of intensity values is called the histogram of an image. Scikit-image provides the `exposure` module to compute and manipulate histograms. Typically, the histogram is not normalized and hence it sums up to the number of pixels of an image.\n",
    "\n",
    "The cumulative density function (cdf) of an image is the sum of pixels having an intensity value smaller or equal to a defined value weighted by the number of pixels. Thus, the cdf is in the range $[0,1]$."
   ],
   "metadata": {}
  },
  {
   "cell_type": "code",
   "execution_count": null,
   "source": [
    "img_hist, bins = skimage.exposure.histogram(img[..., 0], nbins=256)  # Compute the histogram of the red color channel\n",
    "# Note the histogram can be normalized by setting `normalize=True` argument.\n",
    "\n",
    "img_cdf, bins  = skimage.exposure.cumulative_distribution(img[..., 0], nbins=256)   # Compute the cumulative distribution\n",
    "\n",
    "fig, ax = plt.subplots(1,2)\n",
    "ax[0].imshow(img[..., 0], cmap='gray')   # Plot the re channel\n",
    "ax[1].plot(bins, img_hist)               # Plot the histogram\n",
    "ax_cdf = ax[1].twinx()                   # Create a twin axis since the cdf is in the range [0,1]\n",
    "ax_cdf.plot(bins, img_cdf, '-r')         # Plot the cdf."
   ],
   "outputs": [],
   "metadata": {}
  },
  {
   "cell_type": "markdown",
   "source": [
    "The cdf of an image is often used to manipulate the histogram of an image. For example, the next piece of code adapts the contrast of an image by equalizing its histogram. \n",
    "\n",
    "Further histogram manipulation functions can be found in the [documentation](https://scikit-image.org/docs/0.18.x/api/skimage.exposure.html?highlight=exposure#skimage.exposure) of the `exposure` module."
   ],
   "metadata": {}
  },
  {
   "cell_type": "code",
   "execution_count": null,
   "source": [
    "img_eq = skimage.exposure.equalize_hist(img[..., 0])\n",
    "\n",
    "img_hist, bins = skimage.exposure.histogram(img_eq, nbins=256) \n",
    "img_cdf, bins  = skimage.exposure.cumulative_distribution(img_eq, nbins=256)   # Compute the cumulative distribution\n",
    "\n",
    "fig, ax = plt.subplots(1,2)\n",
    "ax[0].imshow(img_eq, cmap='gray')\n",
    "ax[1].plot(bins, img_hist)\n",
    "ax_cdf = ax[1].twinx()\n",
    "ax_cdf.plot(bins, img_cdf, '-r')"
   ],
   "outputs": [],
   "metadata": {}
  },
  {
   "cell_type": "markdown",
   "source": [
    "## Geometrical Transformation of Images"
   ],
   "metadata": {}
  },
  {
   "cell_type": "markdown",
   "source": [
    "Geometrical operations are typically applied to change the shape of an image. Scikit-image summarizes these operations in the `transform` module. We demonstrate the most popular geometrical transformations in the next cells. For additional transforms check out the [documentation](https://scikit-image.org/docs/dev/api/skimage.transform.html)."
   ],
   "metadata": {}
  },
  {
   "cell_type": "code",
   "execution_count": null,
   "source": [
    "import skimage.transform    # the module needs to imported from tha package"
   ],
   "outputs": [],
   "metadata": {}
  },
  {
   "cell_type": "markdown",
   "source": [
    "Let us start with cropping and resizing operations. Cropping defines the extraction of a patch from an image, while the resizing operation changes the resolution of an image. Lock at the following code and figure to understand the differences."
   ],
   "metadata": {}
  },
  {
   "cell_type": "code",
   "execution_count": null,
   "source": [
    "img_g = skimage.color.rgb2gray(img)\n",
    "\n",
    "img_crop = img_g[100:250,100:250]    # Cropping a patch from the image can be done using numpy slicing\n",
    "img_rescaled = skimage.transform.rescale(img_g, 0.25, anti_aliasing=True)    # Rescale the image to a quater resolution\n",
    "img_resized = skimage.transform.resize(img_g, (img_g.shape[0]//2, img_g.shape[1]//2))    # Resize the image to half resolution\n",
    "\n",
    "fig, ax = plt.subplots(2,2)\n",
    "for a, i, t in zip(ax.ravel(), [img_g, img_crop, img_rescaled, img_resized], ['original', 'cropped', 'rescaled', 'resized']):\n",
    "    a.imshow(i, cmap='gray')\n",
    "    a.set_title(t)"
   ],
   "outputs": [],
   "metadata": {}
  },
  {
   "cell_type": "code",
   "execution_count": null,
   "source": [
    "img_r = skimage.transform.rotate(img_g, 45)    # Rotate the image by 45 degrees\n",
    "\n",
    "plt.figure()\n",
    "plt.imshow(img_r, cmap='gray')\n",
    "plt.title('Rotated')"
   ],
   "outputs": [],
   "metadata": {}
  },
  {
   "cell_type": "markdown",
   "source": [
    "## Corrupting Images by Noise"
   ],
   "metadata": {}
  },
  {
   "cell_type": "markdown",
   "source": [
    "Images are quite frequently (actually almost always) degraded by noise. The `random_noise` function in the `util` module allows us to synthetically degrade images."
   ],
   "metadata": {}
  },
  {
   "cell_type": "code",
   "execution_count": null,
   "source": [
    "fig, ax = plt.subplots(1,2)\n",
    "ax[0].imshow(skimage.util.random_noise(img, mode='gaussian', var=0.1**2))    # add Gaussian noise with standard deviation 0.1\n",
    "ax[1].imshow(skimage.util.random_noise(img, mode='s&p', amount=0.2))         # add Salt and Pepper (Bernoulli) noise with probability 0.2 to every pixel"
   ],
   "outputs": [],
   "metadata": {}
  },
  {
   "cell_type": "markdown",
   "source": [
    "## Convolution and Image Filtering"
   ],
   "metadata": {}
  },
  {
   "cell_type": "markdown",
   "source": [
    "To convolve multidimensional signals (images, volumes) `scipy` provides the `convolve` function in its `ndimage` module. Note that you have multiple options, for instance, also the functions `scipy.signal.convolve2d` performs a 2d convolution.\n",
    "\n"
   ],
   "metadata": {}
  },
  {
   "cell_type": "code",
   "execution_count": null,
   "source": [
    "from scipy.ndimage import convolve\n",
    "# generate a 2d Gaussian kernel\n",
    "r = 4        # radius of filter (final size will be 9x9)\n",
    "sigma = 2.0  # standard deviation of the Gaussian kernel\n",
    "xx, yy = np.meshgrid(np.arange(-r,r+1), np.arange(-r,r+1))   \n",
    "gaussian = np.exp(-(xx**2 + yy**2)/2/sigma**2)\n",
    "gaussian /= gaussian.sum()    # normalize to preserve intensities\n",
    "img_gaussian = convolve(img_g, gaussian)   # apply the Gaussian kernel\n",
    "\n",
    "fig, ax = plt.subplots(1, 2, sharex=True, sharey=True)\n",
    "ax[0].imshow(img_g, cmap='gray')\n",
    "ax[1].imshow(img_gaussian, cmap='gray')\n"
   ],
   "outputs": [],
   "metadata": {}
  },
  {
   "cell_type": "markdown",
   "source": [
    "We can obtain the same result by using the `filters` module of scikit-image. This module implements a large variety of classical image filters. Check out the [documentation](https://scikit-image.org/docs/dev/api/skimage.filters.html) for further details.\n",
    "The next cells demonstrates how to extract image edges using edge filters."
   ],
   "metadata": {}
  },
  {
   "cell_type": "code",
   "execution_count": null,
   "source": [
    "import skimage.filters\n",
    "\n",
    "edge_filters = {\n",
    "    \"Laplace\": skimage.filters.laplace(img_g),\n",
    "    \"Sobel\": skimage.filters.sobel(img_g),\n",
    "    \"Canny\": skimage.feature.canny(img_g)\n",
    "}\n",
    "\n",
    "fig, ax = plt.subplots(1, len(edge_filters), sharex=True, sharey=True)\n",
    "ax = ax.ravel()\n",
    "\n",
    "for a, (k,v) in zip(ax, edge_filters.items()):\n",
    "    a.imshow(v, cmap='gray')\n",
    "    a.set_title(k)"
   ],
   "outputs": [],
   "metadata": {}
  },
  {
   "cell_type": "markdown",
   "source": [
    "## Fourier Transformation on Images"
   ],
   "metadata": {}
  },
  {
   "cell_type": "markdown",
   "source": [
    "Many filtering techniques can be efficiently implemented in Fourier space due to the famous circular convolution theorem. Thus, the 2d Fourier transform is quite frequently used in image processing. Numpy provides the `fft` module to compute multidimensional Fourier transforms."
   ],
   "metadata": {}
  },
  {
   "cell_type": "code",
   "execution_count": null,
   "source": [
    "Img_g = np.fft.fft2(img_g)\n",
    "Img_g = np.fft.fftshift(Img_g)\n",
    "\n",
    "fig, ax = plt.subplots(2, 2, sharex=True, sharey=True)\n",
    "ax[0,0].imshow(np.log(np.abs(Img_g.real))*np.sign(Img_g.real))\n",
    "ax[0,1].imshow(np.log(np.abs(Img_g.imag))*np.sign(Img_g.imag))\n",
    "ax[1,0].imshow(np.log(np.abs(Img_g)))\n",
    "ax[1,1].imshow(np.angle(Img_g))\n"
   ],
   "outputs": [],
   "metadata": {}
  },
  {
   "cell_type": "markdown",
   "source": [
    "## Bonus Task (4%)\n",
    "\n",
    "Implement the abstraction method of Winemöller et al. [1] to apply a comic style to real-world images.\n",
    "Note that your solution is only supposed to use functions available in the `numpy`, `skimage`, and `cv2` packages. No worries, your solution does not have to be real-time capable.\n",
    "\n",
    "[1] Winnemöller, Holger, Sven C. Olsen, and Bruce Gooch. \"Real-time video abstraction.\" ACM Transactions On Graphics (TOG) 25.3 (2006): 1221-1226.\n",
    "\n"
   ],
   "metadata": {}
  },
  {
   "cell_type": "code",
   "execution_count": null,
   "source": [
    "img = skimage.io.imread('./jku0.png')\n",
    "plt.figure()\n",
    "plt.imshow(img)\n",
    "img = img[..., :3].astype(np.float32)/255"
   ],
   "outputs": [],
   "metadata": {}
  },
  {
   "cell_type": "code",
   "execution_count": null,
   "source": [
    "from abstractify import abstractify\n",
    "\n",
    "ia = abstractify(img)\n",
    "plt.figure()\n",
    "plt.imshow(ia)"
   ],
   "outputs": [],
   "metadata": {}
  }
 ],
 "metadata": {
  "interpreter": {
   "hash": "ccac982593c67a35e7a528c362e964f21ede2c0da5d6722a2236ba8f3edfa1d0"
  },
  "kernelspec": {
   "name": "python3",
   "display_name": "Python 3.9.7 64-bit ('cvlab': conda)"
  },
  "language_info": {
   "codemirror_mode": {
    "name": "ipython",
    "version": 3
   },
   "file_extension": ".py",
   "mimetype": "text/x-python",
   "name": "python",
   "nbconvert_exporter": "python",
   "pygments_lexer": "ipython3",
   "version": "3.9.7"
  }
 },
 "nbformat": 4,
 "nbformat_minor": 5
}