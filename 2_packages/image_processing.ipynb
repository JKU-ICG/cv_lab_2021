{
 "cells": [
  {
   "cell_type": "markdown",
   "id": "ed45a127",
   "metadata": {
    "slideshow": {
     "slide_type": "slide"
    }
   },
   "source": [
    "# 364.0{21,22,41-45} Introduction to Image Processing"
   ]
  },
  {
   "cell_type": "code",
   "execution_count": null,
   "id": "7eaf7cdf",
   "metadata": {
    "slideshow": {
     "slide_type": "-"
    }
   },
   "outputs": [],
   "source": [
    "import numpy as np"
   ]
  },
  {
   "cell_type": "code",
   "execution_count": null,
   "id": "4999186d",
   "metadata": {
    "slideshow": {
     "slide_type": "slide"
    }
   },
   "outputs": [],
   "source": [
    "%matplotlib notebook\n",
    "import matplotlib.pyplot as plt"
   ]
  },
  {
   "cell_type": "code",
   "execution_count": null,
   "id": "2f88afaf",
   "metadata": {},
   "outputs": [],
   "source": [
    "import skimage"
   ]
  },
  {
   "cell_type": "markdown",
   "id": "c79e8083",
   "metadata": {},
   "source": [
    "## Load and Display Images"
   ]
  },
  {
   "cell_type": "markdown",
   "id": "ef82520e",
   "metadata": {},
   "source": [
    "The scitki-image package comes along with some example images that can be accessed via the `data` module."
   ]
  },
  {
   "cell_type": "code",
   "execution_count": null,
   "id": "775e2a3f",
   "metadata": {},
   "outputs": [],
   "source": [
    "img = skimage.data.cat()  # Example image from the scikit-image package"
   ]
  },
  {
   "cell_type": "code",
   "execution_count": null,
   "id": "af2bef70",
   "metadata": {},
   "outputs": [],
   "source": [
    "plt.figure()\n",
    "plt.imshow(img)"
   ]
  },
  {
   "cell_type": "markdown",
   "id": "868aa40e",
   "metadata": {},
   "source": [
    "Moreover, images can be loaded from the drive (or web) using the `imread` function from the `io` module. This module defines an interface for different packages that support io-operations for different image type.\n",
    "\n",
    "The following function lists all available packages and their supported functions:"
   ]
  },
  {
   "cell_type": "code",
   "execution_count": null,
   "id": "3d878fe8",
   "metadata": {},
   "outputs": [],
   "source": [
    "skimage.io.find_available_plugins()"
   ]
  },
  {
   "cell_type": "markdown",
   "id": "ec1221ef",
   "metadata": {},
   "source": [
    "The default package used by the `io` module is the `imageio` package (except for `.tiff`-files the `tifffile` package is used).\n",
    "\n",
    "Let's try to load some images next and display them using matplotlib."
   ]
  },
  {
   "cell_type": "code",
   "execution_count": null,
   "id": "533f4b8b",
   "metadata": {},
   "outputs": [],
   "source": [
    "img_drive = skimage.io.imread('example.png')    # Read an image from the drive\n",
    "img_web = skimage.io.imread('https://www.jku.at/fileadmin/_processed_/5/7/csm_erich-kobler_b598995438.jpg')\n",
    "\n",
    "# display the images\n",
    "fig, ax = plt.subplots(1,2)\n",
    "ax[0].imshow(img_drive)\n",
    "ax[1].imshow(img_web)"
   ]
  },
  {
   "cell_type": "code",
   "execution_count": null,
   "id": "2e769494",
   "metadata": {},
   "outputs": [],
   "source": [
    "# Let's add titles and turn of the axis clutter.\n",
    "ax[0].set_title('Logo')\n",
    "ax[1].set_title('Erich Kobler')\n",
    "for a in ax: a.axis('off')"
   ]
  },
  {
   "cell_type": "markdown",
   "id": "53afb27b",
   "metadata": {},
   "source": [
    "Let us check the size of the images. It should be number of rows times number of columns times the number of color channels, i.e. $N\\times M \\times C$."
   ]
  },
  {
   "cell_type": "code",
   "execution_count": null,
   "id": "e7666bc0",
   "metadata": {},
   "outputs": [],
   "source": [
    "print(img.shape)\n",
    "print(img_drive.shape)"
   ]
  },
  {
   "cell_type": "code",
   "execution_count": null,
   "id": "35f8ecdc",
   "metadata": {},
   "outputs": [],
   "source": [
    "# We do not need the 4th channel now, so let's remove it.\n",
    "img_drive = img_drive[..., :3]"
   ]
  },
  {
   "cell_type": "markdown",
   "id": "b9a53f60",
   "metadata": {},
   "source": [
    "Why has `img_drive` 4 channels?"
   ]
  },
  {
   "cell_type": "markdown",
   "id": "d88996bc",
   "metadata": {},
   "source": [
    "Typically images are stored in the RGB color space. So, the channel represent the Red, Green, and Blue color component of a pixel. The next figure displays each channel individually."
   ]
  },
  {
   "cell_type": "code",
   "execution_count": null,
   "id": "df639a1f",
   "metadata": {},
   "outputs": [],
   "source": [
    "fig, ax = plt.subplots(1, img_drive.shape[2], sharex=True, sharey=True)\n",
    "labels = ['red', 'green', 'blue']\n",
    "for i, a in enumerate(ax):\n",
    "    a.imshow(img_drive[..., i], cmap='gray')\n",
    "    a.set_title(labels[i])\n",
    "    a.axis('off')"
   ]
  },
  {
   "cell_type": "markdown",
   "id": "cd32bb35",
   "metadata": {},
   "source": [
    "### Image data types"
   ]
  },
  {
   "cell_type": "markdown",
   "id": "014ea06a",
   "metadata": {},
   "source": [
    "Since images are represented as numpy arrays, their data (pixel intensity values) may be stored using the supported `dtypes`.\n",
    "Typically images are stores using the 8bit unsigned int data type (i.e. `np.uint8`). However, image processing is often performed using floating point values in a normalized interval such as $[0,1]$."
   ]
  },
  {
   "cell_type": "code",
   "execution_count": null,
   "id": "e1457249",
   "metadata": {},
   "outputs": [],
   "source": [
    "# Let's check the dtype of the loaded images.\n",
    "print(\"dtype:\", img_drive.dtype)\n",
    "print(f\"Range: [{img_drive.min()}, {img_drive.max()}]\")"
   ]
  },
  {
   "cell_type": "markdown",
   "id": "81a12212",
   "metadata": {},
   "source": [
    "Convert it to floating point variables in $[0,1]$ using single precision to avoid unwanted quantization artifacts."
   ]
  },
  {
   "cell_type": "code",
   "execution_count": null,
   "id": "24811e4c",
   "metadata": {},
   "outputs": [],
   "source": [
    "img_drive = img_drive.astype(np.float32)/255\n",
    "print(\"dtype:\", img_drive.dtype)\n",
    "print(f\"Range: [{img_drive.min()}, {img_drive.max()}]\")"
   ]
  },
  {
   "cell_type": "markdown",
   "id": "da1bc95b",
   "metadata": {},
   "source": [
    "Since the image is represented as a numpy array, its entries (pixel intensities) can be manipulated using numpy functions. Note also the function `img_as_float` can be used to convert the dtype from `np.uint8` to `np.float`."
   ]
  },
  {
   "cell_type": "code",
   "execution_count": null,
   "id": "b3265cf7",
   "metadata": {},
   "outputs": [],
   "source": [
    "img_sine = np.sin(2*np.pi*skimage.img_as_float(img)) # \n",
    "fig, ax = plt.subplots(1,2)\n",
    "ax[0].imshow(img)\n",
    "ax[1].imshow(img_sine)"
   ]
  },
  {
   "cell_type": "markdown",
   "id": "24d007f2",
   "metadata": {},
   "source": [
    "Finally, the `io` module allows us to export (save) images using the function `imsave`."
   ]
  },
  {
   "cell_type": "code",
   "execution_count": null,
   "id": "5795d0b2",
   "metadata": {},
   "outputs": [],
   "source": [
    "print('Without a conversion we get the following warning:', flush=True)\n",
    "skimage.io.imsave('cat-sine.jpg', img_sine, quality=90) # The quality argument is optional for the JPEG format.\n",
    "\n",
    "print('With a conversion no warning is displayed.', flush=True)\n",
    "skimage.io.imsave('cat-sine.jpg', ((img_sine + 1)/2*255).astype(np.uint8), quality=90) # The quality argument is optional for the JPEG format."
   ]
  },
  {
   "cell_type": "markdown",
   "id": "fbe6e5a4",
   "metadata": {},
   "source": [
    "For more details on the `io` module have a look at the [documentation](https://scikit-image.org/docs/dev/api/skimage.io.html#skimage.io)."
   ]
  },
  {
   "cell_type": "markdown",
   "id": "e413048d",
   "metadata": {},
   "source": [
    "## Color conversion"
   ]
  },
  {
   "cell_type": "markdown",
   "id": "a73dc8cc",
   "metadata": {},
   "source": [
    "Many image processing algorithms require that images are represented in certain color spaces such as RGB, HSV, Lab, or YCbCr. Scikit-image provides the `color` module to convert pixel data between these spaces. \n",
    "The naming convention of the conversion functions is rather simple: \n",
    "\n",
    ">    `<orign>2<target>`, \n",
    "\n",
    "where `<origin>` is the name of the color space to convert from and `<target>` is the name of the destination color space. You find some examples below."
   ]
  },
  {
   "cell_type": "code",
   "execution_count": null,
   "id": "d1324abd",
   "metadata": {},
   "outputs": [],
   "source": [
    "color_conversion = {'RGB': lambda x: x,\n",
    "                    'Gray': skimage.color.rgb2gray,\n",
    "                    'HSV': skimage.color.rgb2hsv,\n",
    "                    'Lab': skimage.color.rgb2lab,\n",
    "                   }\n",
    "img_cc = {k: v(img_drive) for k, v in color_conversion.items()}"
   ]
  },
  {
   "cell_type": "markdown",
   "id": "427d1a09",
   "metadata": {},
   "source": [
    "Next, we check the range of the different color spaces for the particular image."
   ]
  },
  {
   "cell_type": "code",
   "execution_count": null,
   "id": "45745aea",
   "metadata": {},
   "outputs": [],
   "source": [
    "# A pretty printing function for arrays\n",
    "def pp_array(x):\n",
    "    return np.array2string(x, formatter={'float': lambda x: f'{x:.2f}'})\n",
    "\n",
    "\n",
    "for k, v in img_cc.items():\n",
    "    print(f\"{k:4s} in [{pp_array(np.min(v, (0,1))):20s}, {pp_array(np.max(v, (0,1))):20s}]\")\n"
   ]
  },
  {
   "cell_type": "markdown",
   "id": "ead82a53",
   "metadata": {},
   "source": [
    "Due to the larger range of the `Lab` color space, we will get a warning when displaying images using matplotlib."
   ]
  },
  {
   "cell_type": "code",
   "execution_count": null,
   "id": "658d9f67",
   "metadata": {},
   "outputs": [],
   "source": [
    "fig, ax = plt.subplots(2, len(img_cc)//2, sharex=True, sharey=True)\n",
    "ax = ax.ravel()\n",
    "\n",
    "for i, (k, v) in enumerate(img_cc.items()):\n",
    "    ax[i].imshow(v, cmap='gray')   # The cmap attribute is just used for the 'gray' image.\n",
    "    ax[i].set_title(k)"
   ]
  },
  {
   "cell_type": "markdown",
   "id": "590e0a7e",
   "metadata": {},
   "source": [
    "However, we can avoid this warning by normalizing the channels."
   ]
  },
  {
   "cell_type": "code",
   "execution_count": null,
   "id": "1ea16f2d",
   "metadata": {},
   "outputs": [],
   "source": [
    "def normalize_channels(x):\n",
    "    x = x.copy()\n",
    "    x -= x.min((1,2), keepdims=True)\n",
    "    x /= x.max((1,2), keepdims=True)\n",
    "    return x\n",
    "\n",
    "fig, ax = plt.subplots()\n",
    "ax.imshow(normalize_channels(img_cc['Lab']))"
   ]
  },
  {
   "cell_type": "markdown",
   "id": "801c6558",
   "metadata": {},
   "source": [
    "Further details on color channels can be found at [wikipedia](https://en.wikipedia.org/wiki/Color_space) and the API of the `color` module is described in the [documentation](https://scikit-image.org/docs/dev/api/skimage.color.html#skimage.color)."
   ]
  },
  {
   "cell_type": "markdown",
   "id": "38f15806",
   "metadata": {},
   "source": [
    "## Interpretation of Images"
   ]
  },
  {
   "cell_type": "markdown",
   "id": "fcce52c7",
   "metadata": {},
   "source": [
    "Up to now, we interpreted images as 2-dimensional matrices with scalar (gray-scale) or vector valued entries (color). However, images can also be interpreted as discretizations of continuous objects. Thus, images may represent `continuous' functions in two variables $(x,y)\\in\\Omega\\subset\\mathbb{R}^2$.\n",
    "\n",
    "In the next few lines of codes, we elaborate on this idea."
   ]
  },
  {
   "cell_type": "code",
   "execution_count": null,
   "id": "93b77e41",
   "metadata": {},
   "outputs": [],
   "source": [
    "# load a gray-scale image\n",
    "x = skimage.data.coins()[10:80, 300:370]\n",
    "\n",
    "# plot it as usual\n",
    "fig = plt.figure()\n",
    "ax = fig.add_subplot(1,2,1)\n",
    "ax.imshow(x, cmap='gray')\n",
    "ax.set_title(\"Matrix interpretation\")\n",
    "\n",
    "# define the center points of the pixels on the [0,1]^2 square.\n",
    "xx, yy = np.meshgrid(np.linspace(0,1,x.shape[1]), np.linspace(0,1,x.shape[0]))\n",
    "zz = x[::-1,:]\n",
    "# plot the function in two variables\n",
    "ax = fig.add_subplot(1,2,2, projection=\"3d\")\n",
    "ax.plot_surface(xx, yy, zz, cmap='gray', rcount=x.shape[0], ccount=x.shape[1])\n",
    "ax.set_xlabel(\"x\")\n",
    "ax.set_ylabel(\"y\")\n",
    "ax.set_title(\"Function interpretation\")\n",
    "ax.azim = -90\n",
    "ax.elev = 90\n"
   ]
  },
  {
   "cell_type": "markdown",
   "id": "e4ba9d78",
   "metadata": {},
   "source": [
    "## Distribution of Intensity Values (Histograms)"
   ]
  },
  {
   "cell_type": "markdown",
   "id": "78fa9f16",
   "metadata": {},
   "source": [
    "The global (across the entire image) discrete distribution of intensity values is called the histogram of an image. Scikit-image provides the `exposure` module to compute and manipulate histograms. Typically, the histogram is not normalized and hence it sums up to the number of pixels of an image.\n",
    "\n",
    "The cumulative density function (cdf) of an image is the sum of pixels having an intensity value smaller or equal to a defined value weighted by the number of pixels. Thus, the cdf is in the range $[0,1]$."
   ]
  },
  {
   "cell_type": "code",
   "execution_count": null,
   "id": "d4c5bb42",
   "metadata": {},
   "outputs": [],
   "source": [
    "img_hist, bins = skimage.exposure.histogram(img[..., 0], nbins=256)  # Compute the histogram of the red color channel\n",
    "# Note the histogram can be normalized by setting `normalize=True` argument.\n",
    "\n",
    "img_cdf, bins  = skimage.exposure.cumulative_distribution(img[..., 0], nbins=256)   # Compute the cumulative distribution\n",
    "\n",
    "fig, ax = plt.subplots(1,2)\n",
    "ax[0].imshow(img[..., 0], cmap='gray')   # Plot the re channel\n",
    "ax[1].plot(bins, img_hist)               # Plot the histogram\n",
    "ax_cdf = ax[1].twinx()                   # Create a twin axis since the cdf is in the range [0,1]\n",
    "ax_cdf.plot(bins, img_cdf, '-r')         # Plot the cdf."
   ]
  },
  {
   "cell_type": "markdown",
   "id": "2723f775",
   "metadata": {},
   "source": [
    "The cdf of an image is often used to manipulate the histogram of an image. For example, the next piece of code adapts the contrast of an image by equalizing its histogram. \n",
    "\n",
    "Further histogram manipulation functions can be found in the [documentation](https://scikit-image.org/docs/0.18.x/api/skimage.exposure.html?highlight=exposure#skimage.exposure) of the `exposure` module."
   ]
  },
  {
   "cell_type": "code",
   "execution_count": null,
   "id": "1fa72040",
   "metadata": {},
   "outputs": [],
   "source": [
    "img_eq = skimage.exposure.equalize_hist(img[..., 0])\n",
    "\n",
    "img_hist, bins = skimage.exposure.histogram(img_eq, nbins=256) \n",
    "img_cdf, bins  = skimage.exposure.cumulative_distribution(img_eq, nbins=256)   # Compute the cumulative distribution\n",
    "\n",
    "fig, ax = plt.subplots(1,2)\n",
    "ax[0].imshow(img_eq, cmap='gray')\n",
    "ax[1].plot(bins, img_hist)\n",
    "ax_cdf = ax[1].twinx()\n",
    "ax_cdf.plot(bins, img_cdf, '-r')"
   ]
  },
  {
   "cell_type": "markdown",
   "id": "57e7145b",
   "metadata": {},
   "source": [
    "## Geometrical Transformation of Images"
   ]
  },
  {
   "cell_type": "markdown",
   "id": "43736be4",
   "metadata": {},
   "source": [
    "Geometrical operations are typically applied to change the shape of an image. Scikit-image summarizes these operations in the `transform` module. We demonstrate the most popular geometrical transformations in the next cells. For additional transforms check out the [documentation](https://scikit-image.org/docs/dev/api/skimage.transform.html)."
   ]
  },
  {
   "cell_type": "code",
   "execution_count": null,
   "id": "fe12ea3d",
   "metadata": {},
   "outputs": [],
   "source": [
    "import skimage.transform    # the module needs to imported from tha package"
   ]
  },
  {
   "cell_type": "markdown",
   "id": "ba4f22d9",
   "metadata": {},
   "source": [
    "Let us start with cropping and resizing operations. Cropping defines the extraction of a patch from an image, while the resizing operation changes the resolution of an image. Lock at the following code and figure to understand the differences."
   ]
  },
  {
   "cell_type": "code",
   "execution_count": null,
   "id": "0d10112a",
   "metadata": {},
   "outputs": [],
   "source": [
    "img_g = skimage.color.rgb2gray(img)\n",
    "\n",
    "img_crop = img_g[100:250,100:250]    # Cropping a patch from the image can be done using numpy slicing\n",
    "img_rescaled = skimage.transform.rescale(img_g, 0.25, anti_aliasing=True)    # Rescale the image to a quater resolution\n",
    "img_resized = skimage.transform.resize(img_g, (img_g.shape[0]//2, img_g.shape[1]//2))    # Resize the image to half resolution\n",
    "\n",
    "fig, ax = plt.subplots(2,2)\n",
    "for a, i, t in zip(ax.ravel(), [img_g, img_crop, img_rescaled, img_resized], ['original', 'cropped', 'rescaled', 'resized']):\n",
    "    a.imshow(i, cmap='gray')\n",
    "    a.set_title(t)"
   ]
  },
  {
   "cell_type": "code",
   "execution_count": null,
   "id": "2de6d6cf",
   "metadata": {},
   "outputs": [],
   "source": [
    "img_r = skimage.transform.rotate(img_g, 45)    # Rotate the image by 45 degrees\n",
    "\n",
    "plt.figure()\n",
    "plt.imshow(img_r, cmap='gray')\n",
    "plt.title('Rotated')"
   ]
  },
  {
   "cell_type": "markdown",
   "id": "cc6a7889",
   "metadata": {},
   "source": [
    "## Boundary Handling"
   ]
  },
  {
   "cell_type": "markdown",
   "id": "037ed807",
   "metadata": {},
   "source": [
    "Next, we discuss typical boundary handling approaches used in image processing to suppress boundary artifacts.\n",
    "\n",
    "In the next table, you find a look table that translates the Numpy border handling modes to the corresponding OpenCV border handling enum items.\n",
    "\n",
    "| numpy, scikit-image | opencv                  |\n",
    "|:-------------------:|:-----------------------:|\n",
    "| `constant`          | `cv.BORDER_CONSTANT`    |\n",
    "| `edge`              | `cv.BORDER_REPLICATE`   |\n",
    "| `wrap`              | `cv.BORDER_WRAP`        |\n",
    "| `reflect`           | `cv.BORDER_REFLECT_101` |\n",
    "| `symmetric`         | `cv.BORDER_REFLECT`     |\n"
   ]
  },
  {
   "cell_type": "code",
   "execution_count": null,
   "id": "8917ff5c",
   "metadata": {},
   "outputs": [],
   "source": [
    "# create a simple image\n",
    "x = np.zeros((16, 16))\n",
    "x[:8, :8] += 1\n",
    "x[:4, :4] += 1\n",
    "x[:2, :2] += 1\n",
    "x[:1, :1] += 2\n",
    "x[8, 8] = 4\n",
    "\n",
    "modes = ['constant', 'edge', 'wrap', 'reflect', 'symmetric']\n",
    "fig, axes = plt.subplots(1, len(modes), figsize=(2*len(modes),3))\n",
    "ax = axes.flatten()\n",
    "\n",
    "for n, mode in enumerate(modes):\n",
    "    x_padded = np.pad(x, pad_width=x.shape[0], mode=mode)\n",
    "    ax[n].imshow(x_padded, cmap=plt.cm.gray)\n",
    "    ax[n].plot([15.5, 15.5, 31.5, 31.5, 15.5],\n",
    "               [15.5, 31.5, 31.5, 15.5, 15.5], 'y--', linewidth=0.5)\n",
    "    ax[n].set_title(mode)\n",
    "\n",
    "for a in ax:\n",
    "    a.set_axis_off()\n",
    "    a.set_aspect('equal')"
   ]
  },
  {
   "cell_type": "markdown",
   "id": "9255da49",
   "metadata": {},
   "source": [
    "## Corrupting Images by Noise"
   ]
  },
  {
   "cell_type": "markdown",
   "id": "f9a097ad",
   "metadata": {},
   "source": [
    "Images are quite frequently (actually almost always) degraded by noise. The `random_noise` function in the `util` module allows us to synthetically degrade images."
   ]
  },
  {
   "cell_type": "code",
   "execution_count": null,
   "id": "2e40df1f",
   "metadata": {},
   "outputs": [],
   "source": [
    "fig, ax = plt.subplots(1,2)\n",
    "ax[0].imshow(skimage.util.random_noise(img, mode='gaussian', var=0.1**2))    # add Gaussian noise with standard deviation 0.1\n",
    "ax[1].imshow(skimage.util.random_noise(img, mode='s&p', amount=0.2))         # add Salt and Pepper (Bernoulli) noise with probability 0.2 to every pixel"
   ]
  },
  {
   "cell_type": "markdown",
   "id": "2267dc52",
   "metadata": {},
   "source": [
    "## Convolution and Image Filtering"
   ]
  },
  {
   "cell_type": "markdown",
   "id": "9f5592eb",
   "metadata": {},
   "source": [
    "To convolve multidimensional signals (images, volumes) `scipy` provides the `convolve` function in its `ndimage` module. Note that you have multiple options, for instance, also the functions `scipy.signal.convolve2d` performs a 2d convolution.\n",
    "\n"
   ]
  },
  {
   "cell_type": "code",
   "execution_count": null,
   "id": "0ae9c041",
   "metadata": {},
   "outputs": [],
   "source": [
    "from scipy.ndimage import convolve\n",
    "# generate a 2d Gaussian kernel\n",
    "r = 4        # radius of filter (final size will be 9x9)\n",
    "sigma = 2.0  # standard deviation of the Gaussian kernel\n",
    "xx, yy = np.meshgrid(np.arange(-r,r+1), np.arange(-r,r+1))   \n",
    "gaussian = np.exp(-(xx**2 + yy**2)/2/sigma**2)\n",
    "gaussian /= gaussian.sum()    # normalize to preserve intensities\n",
    "img_gaussian = convolve(img_g, gaussian)   # apply the Gaussian kernel\n",
    "\n",
    "fig, ax = plt.subplots(1, 2, sharex=True, sharey=True)\n",
    "ax[0].imshow(img_g, cmap='gray', vmin=0, vmax=1)\n",
    "ax[1].imshow(img_gaussian, cmap='gray', vmin=0, vmax=1)\n"
   ]
  },
  {
   "cell_type": "markdown",
   "id": "941cf6e7",
   "metadata": {},
   "source": [
    "We can obtain the same result by using the `filters` module of scikit-image. This module implements a large variety of classical image filters. Check out the [documentation](https://scikit-image.org/docs/dev/api/skimage.filters.html) for further details.\n",
    "The next cells demonstrates how to extract image edges using edge filters."
   ]
  },
  {
   "cell_type": "code",
   "execution_count": null,
   "id": "4d945f38",
   "metadata": {},
   "outputs": [],
   "source": [
    "import skimage.filters\n",
    "\n",
    "edge_filters = {\n",
    "    \"Laplace\": skimage.filters.laplace(img_g),\n",
    "    \"Sobel\": skimage.filters.sobel(img_g),\n",
    "    \"Canny\": skimage.feature.canny(img_g)\n",
    "}\n",
    "\n",
    "fig, ax = plt.subplots(1, len(edge_filters), sharex=True, sharey=True)\n",
    "ax = ax.ravel()\n",
    "\n",
    "for a, (k,v) in zip(ax, edge_filters.items()):\n",
    "    a.imshow(v, cmap='gray')\n",
    "    a.set_title(k)"
   ]
  },
  {
   "cell_type": "markdown",
   "id": "148c0536",
   "metadata": {},
   "source": [
    "## Fourier Transformation on Images"
   ]
  },
  {
   "cell_type": "markdown",
   "id": "5a2cf6fb",
   "metadata": {},
   "source": [
    "Many filtering techniques can be efficiently implemented in Fourier space due to the famous circular convolution theorem. Thus, the 2d Fourier transform is quite frequently used in image processing. Numpy provides the `fft` module to compute multidimensional Fourier transforms."
   ]
  },
  {
   "cell_type": "code",
   "execution_count": null,
   "id": "a641abe3",
   "metadata": {},
   "outputs": [],
   "source": [
    "Img_g = np.fft.fft2(img_g)\n",
    "Img_g = np.fft.fftshift(Img_g)\n",
    "\n",
    "fig, ax = plt.subplots(2, 2, sharex=True, sharey=True)\n",
    "ax[0,0].imshow(np.log(np.abs(Img_g.real))*np.sign(Img_g.real))\n",
    "ax[0,1].imshow(np.log(np.abs(Img_g.imag))*np.sign(Img_g.imag))\n",
    "ax[1,0].imshow(np.log(np.abs(Img_g)))\n",
    "ax[1,1].imshow(np.angle(Img_g))\n"
   ]
  },
  {
   "cell_type": "markdown",
   "id": "ecbce131",
   "metadata": {},
   "source": [
    "## Bonus Task (4%)\n",
    "\n",
    "Implement the abstraction method of Winemöller et al. [1] to apply a comic style to real-world images.\n",
    "Note that your solution is only supposed to use functions available in the `numpy`, `skimage`, and `cv2` packages. No worries, your solution does not have to be real-time capable.\n",
    "\n",
    "[1] Winnemöller, Holger, Sven C. Olsen, and Bruce Gooch. [\"Real-time video abstraction.\"](https://cs.colby.edu/courses/S16/cs365/papers/winnemoller-videoAbstraction-SIG06.pdf) ACM Transactions On Graphics (TOG) 25.3 (2006): 1221-1226.\n",
    "\n"
   ]
  },
  {
   "cell_type": "code",
   "execution_count": null,
   "id": "bc1e61db",
   "metadata": {},
   "outputs": [],
   "source": [
    "img = skimage.io.imread('./jku0.png')\n",
    "plt.figure()\n",
    "plt.imshow(img)\n",
    "img = img[..., :3].astype(np.float32)/255"
   ]
  },
  {
   "cell_type": "code",
   "execution_count": null,
   "id": "df6e05a1",
   "metadata": {},
   "outputs": [],
   "source": [
    "from abstractify import abstractify\n",
    "\n",
    "ia = abstractify(img)\n",
    "plt.figure()\n",
    "plt.imshow(ia)"
   ]
  },
  {
   "cell_type": "code",
   "execution_count": null,
   "id": "f8596770",
   "metadata": {},
   "outputs": [],
   "source": []
  }
 ],
 "metadata": {
  "interpreter": {
   "hash": "00b6e34287d559ad544fb75a4ee05892e6b9e87d4546e69ece37562bd575b19a"
  },
  "kernelspec": {
   "display_name": "Python 3 (ipykernel)",
   "language": "python",
   "name": "python3"
  },
  "language_info": {
   "codemirror_mode": {
    "name": "ipython",
    "version": 3
   },
   "file_extension": ".py",
   "mimetype": "text/x-python",
   "name": "python",
   "nbconvert_exporter": "python",
   "pygments_lexer": "ipython3",
   "version": "3.9.7"
  }
 },
 "nbformat": 4,
 "nbformat_minor": 5
}
